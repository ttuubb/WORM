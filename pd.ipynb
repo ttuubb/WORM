{
 "cells": [
  {
   "cell_type": "code",
   "execution_count": null,
   "id": "a35e6853",
   "metadata": {},
   "outputs": [],
   "source": [
    "import pandas  as pd\n",
    "import numpy as np\n",
    "import matplotlib.pyplot as plt"
   ]
  },
  {
   "cell_type": "code",
   "execution_count": null,
   "id": "b74d6181",
   "metadata": {},
   "outputs": [],
   "source": [
    "data = np.random.rand(20, 20)"
   ]
  },
  {
   "cell_type": "code",
   "execution_count": 12,
   "id": "549f3eb5",
   "metadata": {},
   "outputs": [
    {
     "data": {
      "text/plain": [
       "<generator object DataFrame.iterrows at 0x737413dc7560>"
      ]
     },
     "execution_count": 12,
     "metadata": {},
     "output_type": "execute_result"
    }
   ],
   "source": [
    "# 修改: 将 columns 扩展为 20 个列名，以匹配 data 的列数\n",
    "df = pd.DataFrame(data, columns=[f'col_{i}' for i in range(20)],index=[i for i in range(len(data))])\n",
    "df.iterrows()"
   ]
  }
 ],
 "metadata": {
  "kernelspec": {
   "display_name": ".venv",
   "language": "python",
   "name": "python3"
  },
  "language_info": {
   "codemirror_mode": {
    "name": "ipython",
    "version": 3
   },
   "file_extension": ".py",
   "mimetype": "text/x-python",
   "name": "python",
   "nbconvert_exporter": "python",
   "pygments_lexer": "ipython3",
   "version": "3.12.3"
  }
 },
 "nbformat": 4,
 "nbformat_minor": 5
}
