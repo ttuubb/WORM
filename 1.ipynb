{
 "cells": [
  {
   "cell_type": "code",
   "id": "initial_id",
   "metadata": {
    "collapsed": true,
    "ExecuteTime": {
     "end_time": "2025-06-11T19:54:49.091337Z",
     "start_time": "2025-06-11T19:54:49.026791Z"
    }
   },
   "source": [
    "l1 = [9,9,9,9,9,9,9]\n",
    "l2 = [9,9,9,9]\n",
    "str1 = ''.join(l1)"
   ],
   "outputs": [
    {
     "ename": "TypeError",
     "evalue": "sequence item 0: expected str instance, int found",
     "output_type": "error",
     "traceback": [
      "\u001B[31m---------------------------------------------------------------------------\u001B[39m",
      "\u001B[31mTypeError\u001B[39m                                 Traceback (most recent call last)",
      "\u001B[36mCell\u001B[39m\u001B[36m \u001B[39m\u001B[32mIn[3]\u001B[39m\u001B[32m, line 3\u001B[39m\n\u001B[32m      1\u001B[39m l1 = [\u001B[32m9\u001B[39m,\u001B[32m9\u001B[39m,\u001B[32m9\u001B[39m,\u001B[32m9\u001B[39m,\u001B[32m9\u001B[39m,\u001B[32m9\u001B[39m,\u001B[32m9\u001B[39m]\n\u001B[32m      2\u001B[39m l2 = [\u001B[32m9\u001B[39m,\u001B[32m9\u001B[39m,\u001B[32m9\u001B[39m,\u001B[32m9\u001B[39m]\n\u001B[32m----> \u001B[39m\u001B[32m3\u001B[39m str1 = \u001B[33;43m'\u001B[39;49m\u001B[33;43m'\u001B[39;49m\u001B[43m.\u001B[49m\u001B[43mjoin\u001B[49m\u001B[43m(\u001B[49m\u001B[43ml1\u001B[49m\u001B[43m)\u001B[49m\n",
      "\u001B[31mTypeError\u001B[39m: sequence item 0: expected str instance, int found"
     ]
    }
   ],
   "execution_count": 3
  }
 ],
 "metadata": {
  "kernelspec": {
   "display_name": "Python 3",
   "language": "python",
   "name": "python3"
  },
  "language_info": {
   "codemirror_mode": {
    "name": "ipython",
    "version": 2
   },
   "file_extension": ".py",
   "mimetype": "text/x-python",
   "name": "python",
   "nbconvert_exporter": "python",
   "pygments_lexer": "ipython2",
   "version": "2.7.6"
  }
 },
 "nbformat": 4,
 "nbformat_minor": 5
}
