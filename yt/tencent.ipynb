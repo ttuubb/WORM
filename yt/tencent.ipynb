{
 "cells": [
  {
   "cell_type": "code",
   "execution_count": null,
   "metadata": {},
   "outputs": [],
   "source": [
    "import yt_dlp\n",
    "import os\n",
    "\n",
    "def download_tencent_video(url, output_path='.', filename=None, format_code='best', cookies_from_browser=None, cookie_file=None):\n",
    "    \"\"\"\n",
    "    下载腾讯视频。\n",
    "\n",
    "    Args:\n",
    "        url (str): 腾讯视频的URL。\n",
    "        output_path (str, optional): 视频下载到的目录。默认为当前目录。\n",
    "        filename (str, optional): 下载视频的文件名（不包含扩展名）。如果为None，yt-dlp将自动生成文件名。\n",
    "        format_code (str, optional): 指定下载的视频格式代码。默认为'best'（最佳质量）。\n",
    "                                     可以通过运行 `yt-dlp -F [视频URL]` 查看可用格式。\n",
    "                                     选择较低分辨率或不同编码的格式可能会提高下载速度。\n",
    "                                     例如：'137+140' (mp4 1080p 视频 + m4a 音频) 或 '22' (mp4 720p 视频和音频)。\n",
    "        cookies_from_browser (str, optional): 从指定浏览器导入Cookie，例如 'chrome' 或 'firefox'。\n",
    "                                            这有助于下载需要登录或有地区限制的视频，但通常不会直接提高下载速度。\n",
    "                                            如果不需要，请设置为None。\n",
    "        cookie_file (str, optional): 包含Cookie的文件路径。例如 'cookies.txt'。\n",
    "                                   这是一种更可靠的导入Cookie的方式，特别是当自动从浏览器导入失败时。\n",
    "                                   如果不需要，请设置为None。\n",
    "    \"\"\"\n",
    "    ydl_opts = {\n",
    "        'outtmpl': os.path.join(output_path, filename + '.%(ext)s') if filename else os.path.join(output_path, '%(title)s.%(ext)s'),\n",
    "        'format': format_code,\n",
    "        'noplaylist': True,  # 确保不下载播放列表\n",
    "        'quiet': False,      # 显示下载进度\n",
    "        'no_warnings': False,\n",
    "        'ignoreerrors': True, # 忽略下载错误，继续处理\n",
    "    }\n",
    "\n",
    "    if cookies_from_browser:\n",
    "        ydl_opts['cookiesfrombrowser'] = cookies_from_browser\n",
    "    elif cookie_file:\n",
    "        ydl_opts['cookiefile'] = cookie_file\n",
    "\n",
    "    try:\n",
    "        with yt_dlp.YoutubeDL(ydl_opts) as ydl:\n",
    "            info_dict = ydl.extract_info(url, download=True)\n",
    "            video_title = info_dict.get('title', '未知标题')\n",
    "            print(f\"视频 '{video_title}' 下载完成！\")\n",
    "    except Exception as e:\n",
    "        print(f\"下载视频时发生错误: {e}\")\n",
    "\n",
    "# 示例用法：\n",
    "# 要查看可用格式，请在终端运行：yt-dlp -F 'https://v.qq.com/x/cover/mzc00200s5j9upv/s4100vpgxmz.html'\n",
    "# 然后选择一个格式代码（例如 'hd-0' 或 'shd-0'）\n",
    "# download_tencent_video('https://v.qq.com/x/cover/mzc00200s5j9upv/s4100vpgxmz.html', output_path='./downloads', filename='my_tencent_video', format_code='hd-0')\n",
    "\n",
    "# 如果需要从浏览器导入Cookie（例如，下载会员视频），可以这样使用：\n",
    "# download_tencent_video('https://v.qq.com/x/cover/mzc00200s5j9upv/s4100vpgxmz.html', output_path='./downloads', filename='my_tencent_video', format_code='hd-0', cookies_from_browser='chrome')\n",
    "\n",
    "# 如果您有从浏览器导出的Cookie文件（例如，使用浏览器扩展），可以这样使用：\n",
    "# download_tencent_video('https://v.qq.com/x/cover/mzc00200s5j9upv/s4100vpgxmz.html', output_path='./downloads', filename='my_tencent_video', format_code='hd-0', cookie_file='./yt/v.qq.com_cookies.txt')\n",
    "\n",
    "# 注意：请将上述URL替换为有效的腾讯视频URL。\n"
   ]
  },
  {
   "cell_type": "code",
   "execution_count": 3,
   "metadata": {},
   "outputs": [
    {
     "name": "stdout",
     "output_type": "stream",
     "text": [
      "[vqq:video] Extracting URL: https://v.qq.com/x/cover/mzc00200s5j9upv/s4100vpgxmz.html\n",
      "[vqq:video] s4100vpgxmz: Downloading webpage\n"
     ]
    },
    {
     "name": "stderr",
     "output_type": "stream",
     "text": [
      "ERROR: _parse_browser_specification() takes from 1 to 4 positional arguments but 6 were given\n"
     ]
    },
    {
     "name": "stdout",
     "output_type": "stream",
     "text": [
      "下载视频时发生错误: failed to load cookies\n"
     ]
    }
   ],
   "source": [
    "download_tencent_video('https://v.qq.com/x/cover/mzc00200s5j9upv/s4100vpgxmz.html', output_path='./downloads', filename='my_tencent_video', format_code='hd-0', cookies_from_browser='chrome')\n"
   ]
  },
  {
   "cell_type": "code",
   "execution_count": 5,
   "metadata": {},
   "outputs": [
    {
     "ename": "TypeError",
     "evalue": "download_tencent_video() got an unexpected keyword argument 'cookie_file'",
     "output_type": "error",
     "traceback": [
      "\u001b[31m---------------------------------------------------------------------------\u001b[39m",
      "\u001b[31mTypeError\u001b[39m                                 Traceback (most recent call last)",
      "\u001b[36mCell\u001b[39m\u001b[36m \u001b[39m\u001b[32mIn[5]\u001b[39m\u001b[32m, line 1\u001b[39m\n\u001b[32m----> \u001b[39m\u001b[32m1\u001b[39m \u001b[43mdownload_tencent_video\u001b[49m\u001b[43m(\u001b[49m\u001b[33;43m'\u001b[39;49m\u001b[33;43mhttps://v.qq.com/x/cover/mzc00200s5j9upv/s4100vpgxmz.html\u001b[39;49m\u001b[33;43m'\u001b[39;49m\u001b[43m,\u001b[49m\u001b[43m \u001b[49m\u001b[43moutput_path\u001b[49m\u001b[43m=\u001b[49m\u001b[33;43m'\u001b[39;49m\u001b[33;43m./downloads\u001b[39;49m\u001b[33;43m'\u001b[39;49m\u001b[43m,\u001b[49m\u001b[43m \u001b[49m\u001b[43mfilename\u001b[49m\u001b[43m=\u001b[49m\u001b[33;43m'\u001b[39;49m\u001b[33;43mmy_tencent_video\u001b[39;49m\u001b[33;43m'\u001b[39;49m\u001b[43m,\u001b[49m\u001b[43m \u001b[49m\u001b[43mformat_code\u001b[49m\u001b[43m=\u001b[49m\u001b[33;43m'\u001b[39;49m\u001b[33;43mhd-0\u001b[39;49m\u001b[33;43m'\u001b[39;49m\u001b[43m,\u001b[49m\u001b[43m \u001b[49m\u001b[43mcookie_file\u001b[49m\u001b[43m=\u001b[49m\u001b[33;43m'\u001b[39;49m\u001b[33;43m./yt/v.qq.com_cookies.txt\u001b[39;49m\u001b[33;43m'\u001b[39;49m\u001b[43m)\u001b[49m\n",
      "\u001b[31mTypeError\u001b[39m: download_tencent_video() got an unexpected keyword argument 'cookie_file'"
     ]
    }
   ],
   "source": [
    "download_tencent_video('https://v.qq.com/x/cover/mzc00200s5j9upv/s4100vpgxmz.html', output_path='./downloads', filename='my_tencent_video', format_code='hd-0', cookie_file='./yt/v.qq.com_cookies.txt')\n"
   ]
  },
  {
   "cell_type": "markdown",
   "metadata": {},
   "source": []
  }
 ],
 "metadata": {
  "kernelspec": {
   "display_name": ".venv",
   "language": "python",
   "name": "python3"
  },
  "language_info": {
   "codemirror_mode": {
    "name": "ipython",
    "version": 3
   },
   "file_extension": ".py",
   "mimetype": "text/x-python",
   "name": "python",
   "nbconvert_exporter": "python",
   "pygments_lexer": "ipython3",
   "version": "3.12.3"
  }
 },
 "nbformat": 4,
 "nbformat_minor": 4
}
